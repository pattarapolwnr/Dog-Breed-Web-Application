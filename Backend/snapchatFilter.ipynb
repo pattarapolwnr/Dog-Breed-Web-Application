{
 "cells": [
  {
   "cell_type": "code",
   "execution_count": null,
   "metadata": {},
   "outputs": [],
   "source": [
    "!wget https://raw.githubusercontent.com/adobe/SimpleSensor/master/simplesensor/collection_modules/demographic_camera/classifiers/haarcascades/haarcascade_mcs_nose.xml\n",
    "!wget https://raw.githubusercontent.com/adobe/SimpleSensor/master/simplesensor/collection_modules/demographic_camera/classifiers/haarcascades/haarcascade_smile.xml"
   ]
  },
  {
   "cell_type": "code",
   "execution_count": null,
   "metadata": {},
   "outputs": [
    {
     "ename": "",
     "evalue": "",
     "output_type": "error",
     "traceback": [
      "\u001b[1;31mThe Kernel crashed while executing code in the the current cell or a previous cell. Please review the code in the cell(s) to identify a possible cause of the failure. Click <a href='https://aka.ms/vscodeJupyterKernelCrash'>here</a> for more info. View Jupyter <a href='command:jupyter.viewOutput'>log</a> for further details."
     ]
    }
   ],
   "source": [
    "import cv2\n",
    "\n",
    "def overlay_transparent(background_img, img_to_overlay_t, x, y, overlay_size=None):\n",
    "    bg_img = background_img.copy()\n",
    "    if bg_img.shape[2] == 3:\n",
    "        bg_img = cv2.cvtColor(bg_img, cv2.COLOR_BGR2BGRA)\n",
    "\n",
    "    if overlay_size is not None:\n",
    "        img_to_overlay_t = cv2.resize(img_to_overlay_t.copy(), overlay_size)\n",
    "\n",
    "    b, g, r, a = cv2.split(img_to_overlay_t)\n",
    "\n",
    "    mask = cv2.medianBlur(a, 5)\n",
    "\n",
    "    h, w, _ = img_to_overlay_t.shape\n",
    "    roi = bg_img[y:y + h, x:x + w]\n",
    "\n",
    "    if roi.shape[0] == h and roi.shape[1] == w:\n",
    "        img1_bg = cv2.bitwise_and(roi.copy(), roi.copy(), mask=cv2.bitwise_not(mask))\n",
    "        img2_fg = cv2.bitwise_and(img_to_overlay_t, img_to_overlay_t, mask=mask)\n",
    "\n",
    "        bg_img[y:y + h, x:x + w] = cv2.add(img1_bg, img2_fg)\n",
    "        bg_img = cv2.cvtColor(bg_img, cv2.COLOR_BGRA2BGR)\n",
    "\n",
    "    return bg_img\n",
    "\n",
    "cap = cv2.VideoCapture(0)\n",
    "prev_nose_x, prev_nose_y = 0, 0\n",
    "prev_mouth_x, prev_mouth_y = 0, 0\n",
    "\n",
    "face_cascade = cv2.CascadeClassifier(cv2.data.haarcascades + 'haarcascade_frontalface_default.xml')\n",
    "nose_cascade = cv2.CascadeClassifier('haarcascade_mcs_nose.xml')\n",
    "mouth_cascade = cv2.CascadeClassifier('haarcascade_smile.xml')\n",
    "\n",
    "ears_img = cv2.imread('snapchatFilter/ears.png', -1)\n",
    "nose_img = cv2.imread('snapchatFilter/nose.png', -1)\n",
    "mouth_img = cv2.imread('snapchatFilter/mouth.png', -1)\n",
    "\n",
    "def gen():\n",
    "    while True:\n",
    "        ret, frame = cap.read()\n",
    "        gray = cv2.cvtColor(frame, cv2.COLOR_BGR2GRAY)\n",
    "\n",
    "        faces = face_cascade.detectMultiScale(gray, 1.3, 5)\n",
    "        for (x, y, w, h) in faces:\n",
    "            roi_gray = gray[y:y+h, x:x+w]\n",
    "            roi_color = frame[y:y+h, x:x+w]\n",
    "\n",
    "            noses = nose_cascade.detectMultiScale(roi_gray, 1.3, 5)\n",
    "            for (nx, ny, nw, nh) in noses:\n",
    "                frame = overlay_transparent(frame, nose_img, x + nx, y + ny, (nw, nh))\n",
    "\n",
    "        \n",
    "            mouths = mouth_cascade.detectMultiScale(roi_gray, 1.8, 20)\n",
    "            for (mx, my, mw, mh) in mouths:\n",
    "                overlay_width = mw \n",
    "                overlay_height = mh\n",
    "                overlay_x = x + mx + mw // 2 - overlay_width // 2 \n",
    "                overlay_y = y + my + mh -25 \n",
    "\n",
    "                frame = overlay_transparent(frame, mouth_img, overlay_x, overlay_y, (overlay_width, overlay_height))\n",
    "\n",
    "\n",
    "            # overlay ears\n",
    "            frame = overlay_transparent(frame, ears_img, x, y - h//5, (w, h//3))\n",
    "            \n",
    "            # return \n",
    "\n",
    "        cv2.imshow('frame', frame)\n",
    "        if cv2.waitKey(1) & 0xFF == ord('q'):\n",
    "            break\n",
    "\n",
    "# cap.release()\n",
    "# cv2.destroyAllWindows()\n"
   ]
  }
 ],
 "metadata": {
  "kernelspec": {
   "display_name": "dog",
   "language": "python",
   "name": "python3"
  },
  "language_info": {
   "codemirror_mode": {
    "name": "ipython",
    "version": 3
   },
   "file_extension": ".py",
   "mimetype": "text/x-python",
   "name": "python",
   "nbconvert_exporter": "python",
   "pygments_lexer": "ipython3",
   "version": "3.9.18"
  }
 },
 "nbformat": 4,
 "nbformat_minor": 2
}
