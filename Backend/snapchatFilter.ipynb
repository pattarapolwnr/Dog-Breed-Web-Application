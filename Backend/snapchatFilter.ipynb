{
 "cells": [
  {
   "cell_type": "code",
   "execution_count": null,
   "metadata": {},
   "outputs": [],
   "source": [
    "!wget https://raw.githubusercontent.com/adobe/SimpleSensor/master/simplesensor/collection_modules/demographic_camera/classifiers/haarcascades/haarcascade_mcs_nose.xml\n",
    "!wget https://raw.githubusercontent.com/adobe/SimpleSensor/master/simplesensor/collection_modules/demographic_camera/classifiers/haarcascades/haarcascade_smile.xml"
   ]
  },
  {
   "cell_type": "code",
   "execution_count": 1,
   "metadata": {},
   "outputs": [
    {
     "ename": "AttributeError",
     "evalue": "'NoneType' object has no attribute 'copy'",
     "output_type": "error",
     "traceback": [
      "\u001b[1;31m---------------------------------------------------------------------------\u001b[0m",
      "\u001b[1;31mAttributeError\u001b[0m                            Traceback (most recent call last)",
      "\u001b[1;32mc:\\Users\\patta\\Desktop\\Projects\\Deep Learning Project 2\\Dog Breed Web Application\\Backend\\snapchatFilter.ipynb Cell 2\u001b[0m line \u001b[0;36m5\n\u001b[0;32m     <a href='vscode-notebook-cell:/c%3A/Users/patta/Desktop/Projects/Deep%20Learning%20Project%202/Dog%20Breed%20Web%20Application/Backend/snapchatFilter.ipynb#W1sZmlsZQ%3D%3D?line=47'>48</a>\u001b[0m noses \u001b[39m=\u001b[39m nose_cascade\u001b[39m.\u001b[39mdetectMultiScale(roi_gray, \u001b[39m1.3\u001b[39m, \u001b[39m5\u001b[39m)\n\u001b[0;32m     <a href='vscode-notebook-cell:/c%3A/Users/patta/Desktop/Projects/Deep%20Learning%20Project%202/Dog%20Breed%20Web%20Application/Backend/snapchatFilter.ipynb#W1sZmlsZQ%3D%3D?line=48'>49</a>\u001b[0m \u001b[39mfor\u001b[39;00m (nx, ny, nw, nh) \u001b[39min\u001b[39;00m noses:\n\u001b[1;32m---> <a href='vscode-notebook-cell:/c%3A/Users/patta/Desktop/Projects/Deep%20Learning%20Project%202/Dog%20Breed%20Web%20Application/Backend/snapchatFilter.ipynb#W1sZmlsZQ%3D%3D?line=49'>50</a>\u001b[0m     frame \u001b[39m=\u001b[39m overlay_transparent(frame, nose_img, x \u001b[39m+\u001b[39;49m nx, y \u001b[39m+\u001b[39;49m ny, (nw, nh))\n\u001b[0;32m     <a href='vscode-notebook-cell:/c%3A/Users/patta/Desktop/Projects/Deep%20Learning%20Project%202/Dog%20Breed%20Web%20Application/Backend/snapchatFilter.ipynb#W1sZmlsZQ%3D%3D?line=52'>53</a>\u001b[0m mouths \u001b[39m=\u001b[39m mouth_cascade\u001b[39m.\u001b[39mdetectMultiScale(roi_gray, \u001b[39m1.8\u001b[39m, \u001b[39m20\u001b[39m)\n\u001b[0;32m     <a href='vscode-notebook-cell:/c%3A/Users/patta/Desktop/Projects/Deep%20Learning%20Project%202/Dog%20Breed%20Web%20Application/Backend/snapchatFilter.ipynb#W1sZmlsZQ%3D%3D?line=53'>54</a>\u001b[0m \u001b[39mfor\u001b[39;00m (mx, my, mw, mh) \u001b[39min\u001b[39;00m mouths:\n",
      "\u001b[1;32mc:\\Users\\patta\\Desktop\\Projects\\Deep Learning Project 2\\Dog Breed Web Application\\Backend\\snapchatFilter.ipynb Cell 2\u001b[0m line \u001b[0;36m9\n\u001b[0;32m      <a href='vscode-notebook-cell:/c%3A/Users/patta/Desktop/Projects/Deep%20Learning%20Project%202/Dog%20Breed%20Web%20Application/Backend/snapchatFilter.ipynb#W1sZmlsZQ%3D%3D?line=5'>6</a>\u001b[0m     bg_img \u001b[39m=\u001b[39m cv2\u001b[39m.\u001b[39mcvtColor(bg_img, cv2\u001b[39m.\u001b[39mCOLOR_BGR2BGRA)\n\u001b[0;32m      <a href='vscode-notebook-cell:/c%3A/Users/patta/Desktop/Projects/Deep%20Learning%20Project%202/Dog%20Breed%20Web%20Application/Backend/snapchatFilter.ipynb#W1sZmlsZQ%3D%3D?line=7'>8</a>\u001b[0m \u001b[39mif\u001b[39;00m overlay_size \u001b[39mis\u001b[39;00m \u001b[39mnot\u001b[39;00m \u001b[39mNone\u001b[39;00m:\n\u001b[1;32m----> <a href='vscode-notebook-cell:/c%3A/Users/patta/Desktop/Projects/Deep%20Learning%20Project%202/Dog%20Breed%20Web%20Application/Backend/snapchatFilter.ipynb#W1sZmlsZQ%3D%3D?line=8'>9</a>\u001b[0m     img_to_overlay_t \u001b[39m=\u001b[39m cv2\u001b[39m.\u001b[39mresize(img_to_overlay_t\u001b[39m.\u001b[39;49mcopy(), overlay_size)\n\u001b[0;32m     <a href='vscode-notebook-cell:/c%3A/Users/patta/Desktop/Projects/Deep%20Learning%20Project%202/Dog%20Breed%20Web%20Application/Backend/snapchatFilter.ipynb#W1sZmlsZQ%3D%3D?line=10'>11</a>\u001b[0m b, g, r, a \u001b[39m=\u001b[39m cv2\u001b[39m.\u001b[39msplit(img_to_overlay_t)\n\u001b[0;32m     <a href='vscode-notebook-cell:/c%3A/Users/patta/Desktop/Projects/Deep%20Learning%20Project%202/Dog%20Breed%20Web%20Application/Backend/snapchatFilter.ipynb#W1sZmlsZQ%3D%3D?line=12'>13</a>\u001b[0m mask \u001b[39m=\u001b[39m cv2\u001b[39m.\u001b[39mmedianBlur(a, \u001b[39m5\u001b[39m)\n",
      "\u001b[1;31mAttributeError\u001b[0m: 'NoneType' object has no attribute 'copy'"
     ]
    }
   ],
   "source": [
    "import cv2\n",
    "\n",
    "def overlay_transparent(background_img, img_to_overlay_t, x, y, overlay_size=None):\n",
    "    bg_img = background_img.copy()\n",
    "    if bg_img.shape[2] == 3:\n",
    "        bg_img = cv2.cvtColor(bg_img, cv2.COLOR_BGR2BGRA)\n",
    "\n",
    "    if overlay_size is not None:\n",
    "        img_to_overlay_t = cv2.resize(img_to_overlay_t.copy(), overlay_size)\n",
    "\n",
    "    b, g, r, a = cv2.split(img_to_overlay_t)\n",
    "\n",
    "    mask = cv2.medianBlur(a, 5)\n",
    "\n",
    "    h, w, _ = img_to_overlay_t.shape\n",
    "    roi = bg_img[y:y + h, x:x + w]\n",
    "\n",
    "    if roi.shape[0] == h and roi.shape[1] == w:\n",
    "        img1_bg = cv2.bitwise_and(roi.copy(), roi.copy(), mask=cv2.bitwise_not(mask))\n",
    "        img2_fg = cv2.bitwise_and(img_to_overlay_t, img_to_overlay_t, mask=mask)\n",
    "\n",
    "        bg_img[y:y + h, x:x + w] = cv2.add(img1_bg, img2_fg)\n",
    "        bg_img = cv2.cvtColor(bg_img, cv2.COLOR_BGRA2BGR)\n",
    "\n",
    "    return bg_img\n",
    "\n",
    "cap = cv2.VideoCapture(0)\n",
    "prev_nose_x, prev_nose_y = 0, 0\n",
    "prev_mouth_x, prev_mouth_y = 0, 0\n",
    "\n",
    "face_cascade = cv2.CascadeClassifier(cv2.data.haarcascades + 'haarcascade_frontalface_default.xml')\n",
    "nose_cascade = cv2.CascadeClassifier('haarcascade_mcs_nose.xml')\n",
    "mouth_cascade = cv2.CascadeClassifier('haarcascade_smile.xml')\n",
    "\n",
    "ears_img = cv2.imread('snapchatFilter/ears.png', -1)\n",
    "nose_img = cv2.imread('snapchatFilter/nose.png', -1)\n",
    "mouth_img = cv2.imread('snapchatFilter/mouth.png', -1)\n",
    "\n",
    "while True:\n",
    "    ret, frame = cap.read()\n",
    "    gray = cv2.cvtColor(frame, cv2.COLOR_BGR2GRAY)\n",
    "\n",
    "    faces = face_cascade.detectMultiScale(gray, 1.3, 5)\n",
    "    for (x, y, w, h) in faces:\n",
    "        roi_gray = gray[y:y+h, x:x+w]\n",
    "        roi_color = frame[y:y+h, x:x+w]\n",
    "\n",
    "        noses = nose_cascade.detectMultiScale(roi_gray, 1.3, 5)\n",
    "        for (nx, ny, nw, nh) in noses:\n",
    "            frame = overlay_transparent(frame, nose_img, x + nx, y + ny, (nw, nh))\n",
    "\n",
    "    \n",
    "        mouths = mouth_cascade.detectMultiScale(roi_gray, 1.8, 20)\n",
    "        for (mx, my, mw, mh) in mouths:\n",
    "            overlay_width = mw \n",
    "            overlay_height = mh\n",
    "            overlay_x = x + mx + mw // 2 - overlay_width // 2 \n",
    "            overlay_y = y + my + mh -25 \n",
    "\n",
    "            frame = overlay_transparent(frame, mouth_img, overlay_x, overlay_y, (overlay_width, overlay_height))\n",
    "\n",
    "\n",
    "        # overlay ears\n",
    "        frame = overlay_transparent(frame, ears_img, x, y - h//5, (w, h//3))\n",
    "\n",
    "    cv2.imshow('frame', frame)\n",
    "    if cv2.waitKey(1) & 0xFF == ord('q'):\n",
    "        break\n",
    "\n",
    "cap.release()\n",
    "cv2.destroyAllWindows()\n"
   ]
  }
 ],
 "metadata": {
  "kernelspec": {
   "display_name": "dog",
   "language": "python",
   "name": "python3"
  },
  "language_info": {
   "codemirror_mode": {
    "name": "ipython",
    "version": 3
   },
   "file_extension": ".py",
   "mimetype": "text/x-python",
   "name": "python",
   "nbconvert_exporter": "python",
   "pygments_lexer": "ipython3",
   "version": "3.9.18"
  }
 },
 "nbformat": 4,
 "nbformat_minor": 2
}
